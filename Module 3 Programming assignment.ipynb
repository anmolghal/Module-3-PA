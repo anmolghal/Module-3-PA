{
 "cells": [
  {
   "cell_type": "code",
   "execution_count": null,
   "id": "bb625a82-9f7e-4c8f-8d2d-5fe592957908",
   "metadata": {},
   "outputs": [],
   "source": [
    "# 7.4\n",
    "things = [\"mozzarella\", \"cinderella\", \"salmonella\"]\n",
    "things\n"
   ]
  },
  {
   "cell_type": "markdown",
   "id": "1effc4ab-6985-4912-be2c-bbfa0a899488",
   "metadata": {},
   "source": [
    "Make a list called things with these three strings as elements: \"mozzarella\", \"cinderella\", \"salmonella\"."
   ]
  },
  {
   "cell_type": "code",
   "execution_count": null,
   "id": "0d53ad97-89d8-4fd5-8037-894940d8288f",
   "metadata": {},
   "outputs": [],
   "source": [
    "# 7.5\n",
    "things[1] = things[1].capitalize()\n",
    "things\n"
   ]
  },
  {
   "cell_type": "markdown",
   "id": "79e18f69-9b3e-44e1-a3bf-b18fbcdd606a",
   "metadata": {},
   "source": [
    "Yes, capitalizing \"cinderella\" changed the element in the list to \"Cinderella\". In Python, capitalize() returns a new string with the first character in uppercase and the rest lowercase."
   ]
  },
  {
   "cell_type": "code",
   "execution_count": null,
   "id": "5e20ac93-49ee-4bec-875d-d2cdc7610610",
   "metadata": {},
   "outputs": [],
   "source": [
    "# 7.6\n",
    "things[0] = things[0].upper()\n",
    "things\n"
   ]
  },
  {
   "cell_type": "markdown",
   "id": "cebb68be-ba08-425b-9f1c-a11479ce14ec",
   "metadata": {},
   "source": [
    " Converting \"mozzarella\" to uppercase changed the first element to \"MOZZARELLA\", which is now reflected in the things list."
   ]
  },
  {
   "cell_type": "code",
   "execution_count": null,
   "id": "53bffa0e-7049-4f8c-98d3-3772c651762a",
   "metadata": {},
   "outputs": [],
   "source": [
    "# 7.7\n",
    "things.remove(\"salmonella\")\n",
    "things\n"
   ]
  },
  {
   "cell_type": "markdown",
   "id": "f1cf778f-9add-4464-8707-3ba158942597",
   "metadata": {},
   "source": [
    "Deleting \"salmonella\" removes the disease from the list, leaving things with only the elements related to foodcharacter. The list now only contains [\"MOZZARELLA\",\"Cinderella\"]."
   ]
  },
  {
   "cell_type": "code",
   "execution_count": null,
   "id": "15fd0da2-0303-44cf-9e3a-02aebd52b21b",
   "metadata": {},
   "outputs": [],
   "source": [
    "# 9.1\n",
    "def good():\n",
    "    return ['Harry', 'Ron', 'Hermione']\n",
    "\n",
    "# Test the function\n",
    "good()\n"
   ]
  },
  {
   "cell_type": "markdown",
   "id": "de342937-aa54-44df-9b9f-722452c60a5e",
   "metadata": {},
   "source": [
    "The function good() returns the list ['Harry', 'Ron', 'Hermione'] when called.\n"
   ]
  },
  {
   "cell_type": "code",
   "execution_count": null,
   "id": "cc291f77-be84-49d6-a81a-3d8f060a79f8",
   "metadata": {},
   "outputs": [],
   "source": [
    "# 9.2\n",
    "def get_odds():\n",
    "    for num in range(10):\n",
    "        if num % 2 != 0:\n",
    "            yield num\n",
    "\n",
    "# Find and print the third value returned\n",
    "odds = get_odds()\n",
    "third_odd = None\n",
    "for i, odd in enumerate(odds, 1):\n",
    "    if i == 3:\n",
    "        third_odd = odd\n",
    "        break\n",
    "\n",
    "third_odd\n"
   ]
  },
  {
   "cell_type": "markdown",
   "id": "ece6e92b-05a1-4f2e-ad6b-18b31aa5d850",
   "metadata": {},
   "source": [
    "The generator function get_odds() yields odd numbers from range(10), which are 1, 3, 5, 7, 9. The third value yielded is 5, which we print after iterating through the generator with a for loop."
   ]
  }
 ],
 "metadata": {
  "kernelspec": {
   "display_name": "Python 3 (ipykernel)",
   "language": "python",
   "name": "python3"
  },
  "language_info": {
   "codemirror_mode": {
    "name": "ipython",
    "version": 3
   },
   "file_extension": ".py",
   "mimetype": "text/x-python",
   "name": "python",
   "nbconvert_exporter": "python",
   "pygments_lexer": "ipython3",
   "version": "3.11.7"
  }
 },
 "nbformat": 4,
 "nbformat_minor": 5
}
